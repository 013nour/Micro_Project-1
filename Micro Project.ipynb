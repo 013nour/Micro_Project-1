{
 "cells": [
  {
   "cell_type": "markdown",
   "id": "b3e9a51a",
   "metadata": {},
   "source": [
    "# Micro Project\n",
    "\n",
    "<img src=\"https://storage.googleapis.com/kaggle-datasets-images/1430609/2368131/55686564b0b9cee5ebc1016613461cf6/dataset-cover.jpeg?t=2021-06-26-19-38-30\">\n",
    "\n",
    "### About Dataset\n",
    "\n",
    "##### Content\n",
    "\n",
    "The dataset contains 8248 records of used cars collected from syarah.com. Each row represents a used car with a link to its webpage. Other information regarding each car is the brand name, model, manufacturing year, origin, the color of the car, options, capacity of the engine, type of fuel, transmission type, the mileage that the car covered, region price, and negotiable.\n",
    "\n",
    "https://www.kaggle.com/datasets/turkibintalib/saudi-arabia-used-cars-dataset\n",
    "\n",
    "Enjoy!!"
   ]
  },
  {
   "cell_type": "code",
   "execution_count": null,
   "id": "e8ddf7a1",
   "metadata": {},
   "outputs": [],
   "source": []
  }
 ],
 "metadata": {
  "kernelspec": {
   "display_name": "Python 3 (ipykernel)",
   "language": "python",
   "name": "python3"
  },
  "language_info": {
   "codemirror_mode": {
    "name": "ipython",
    "version": 3
   },
   "file_extension": ".py",
   "mimetype": "text/x-python",
   "name": "python",
   "nbconvert_exporter": "python",
   "pygments_lexer": "ipython3",
   "version": "3.9.12"
  }
 },
 "nbformat": 4,
 "nbformat_minor": 5
}
